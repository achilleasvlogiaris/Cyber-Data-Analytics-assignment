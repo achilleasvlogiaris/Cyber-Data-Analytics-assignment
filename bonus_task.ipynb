{
 "cells": [
  {
   "cell_type": "code",
   "execution_count": 1,
   "metadata": {},
   "outputs": [
    {
     "name": "stderr",
     "output_type": "stream",
     "text": [
      "/anaconda3/lib/python3.7/site-packages/sklearn/ensemble/weight_boosting.py:29: DeprecationWarning: numpy.core.umath_tests is an internal NumPy module and should not be imported. It will be removed in a future NumPy release.\n",
      "  from numpy.core.umath_tests import inner1d\n"
     ]
    }
   ],
   "source": [
    "import datetime\n",
    "import time\n",
    "import matplotlib.pyplot as plt\n",
    "import warnings\n",
    "import numpy as np\n",
    "import pandas as pd\n",
    "from sklearn import neighbors\n",
    "from sklearn.metrics import precision_recall_curve\n",
    "from sklearn.metrics import classification_report\n",
    "from sklearn.metrics import confusion_matrix\n",
    "from sklearn.model_selection import train_test_split\n",
    "\n",
    "from operator import itemgetter\n",
    "from itertools import groupby\n",
    "\n",
    "from imblearn.over_sampling import SMOTE\n",
    "from imblearn.combine import SMOTETomek # doctest: +NORMALIZE_WHITESPACE\n",
    "from imblearn.under_sampling import EditedNearestNeighbours # doctest: +NORMALIZE_WHITESPACE\n",
    "\n",
    "from sklearn.model_selection import KFold, StratifiedKFold\n",
    "from sklearn.metrics import roc_curve, roc_auc_score, auc, confusion_matrix\n",
    "from scipy import interp\n",
    "from sklearn.ensemble import RandomForestClassifier, AdaBoostClassifier\n",
    "from sklearn import decomposition, tree\n"
   ]
  },
  {
   "cell_type": "code",
   "execution_count": 2,
   "metadata": {},
   "outputs": [],
   "source": [
    "def converter(currency,amount):\n",
    "    coversion_dict = {'SEK':0.09703,'MXN':0.04358,'AUD':0.63161,'NZD':0.58377,'GBP':1.13355}\n",
    "    return round(amount * coversion_dict[currency])"
   ]
  },
  {
   "cell_type": "code",
   "execution_count": 3,
   "metadata": {},
   "outputs": [],
   "source": [
    "dataset = pd.read_csv('data_for_student_case.csv')\n",
    "\n",
    "#Delete Refuced transactions\n",
    "dataset=dataset.loc[dataset['simple_journal']!='Refused']\n",
    "dataset = dataset.loc[dataset['mail_id']!='emailNA']\n",
    "#Convert amount into Euros\n",
    "dataset['EuroAmount']=dataset.apply(lambda row: converter(row['currencycode'],row['amount']),axis=1)\n",
    "#Convert creatiomn date into datetime format and extract each month, day, year,hour\n",
    "dataset['creationdate'] = pd.to_datetime(dataset['creationdate'],format='%Y-%m-%d %H:%M:%S')\n",
    "dataset['bookingdate'] = pd.to_datetime(dataset['bookingdate'],format='%Y-%m-%d %H:%M:%S')\n",
    "dataset['creation_month'] = dataset.creationdate.dt.month\n",
    "dataset['creation_year'] = dataset.creationdate.dt.year\n",
    "dataset['creation_day'] = dataset.creationdate.dt.day\n",
    "dataset['creation_hour'] = dataset.creationdate.dt.hour\n",
    "#label column to have simple_journal in binary format\n",
    "dataset['label'] = np.where(dataset['simple_journal']=='Chargeback', 1, 0)\n",
    "\n",
    "dataset = dataset.dropna(axis=0, how='any')\n",
    "\n",
    "\n",
    "# As the data is from just one year\n",
    "dataset['transaction_id_month'] = 1\n",
    "data_set_2 = dataset.groupby(['card_id', 'creation_month'],as_index=False).sum()[['card_id', 'creation_month','transaction_id_month']]\n",
    "# data_set_2.to_csv('data_test.csv')\n",
    "dataset = dataset.merge(data_set_2, how='outer', on=['card_id', 'creation_month'])\n",
    "\n",
    "dataset['date_new']=[x.date() for x in dataset['creationdate']]\n",
    "dataset['transaction_id_date'] = 1\n",
    "data_set_2 = dataset.groupby(['card_id', 'date_new'],as_index=False).sum()[['card_id', 'date_new','transaction_id_date']]\n",
    "# data_set_2.to_csv('data_test.csv')\n",
    "dataset = dataset.merge(data_set_2, how='outer', on=['card_id', 'date_new'])\n",
    "\n",
    "dataset['transaction_id_merchant'] = 1\n",
    "data_set_2 = dataset.groupby(['accountcode', 'creation_month'],as_index=False).sum()[['accountcode', 'creation_month','transaction_id_merchant']]\n",
    "# data_set_2.to_csv('data_test.csv')\n",
    "dataset = dataset.merge(data_set_2, how='outer', on=['accountcode', 'creation_month'])\n",
    "\n",
    "dataset['transaction_id_currency'] = 1\n",
    "data_set_2 = dataset.groupby(['currencycode', 'creation_month'],as_index=False).sum()[['currencycode', 'creation_month','transaction_id_currency']]\n",
    "# data_set_2.to_csv('data_test.csv')\n",
    "dataset = dataset.merge(data_set_2, how='outer', on=['currencycode', 'creation_month'])\n",
    "\n",
    "# data_set.to_csv('data.csv')\n"
   ]
  },
  {
   "cell_type": "code",
   "execution_count": 4,
   "metadata": {},
   "outputs": [],
   "source": [
    "selected_features = [ 'issuercountrycode', 'txvariantcode', 'EuroAmount', 'amount',\n",
    "                            'currencycode', 'shoppercountrycode', 'shopperinteraction', 'cardverificationcodesupplied', 'simple_journal',\n",
    "                            'cvcresponsecode', 'accountcode','creation_hour', 'creation_day',\n",
    "                            'creation_month', 'creation_year', 'ip_id',\n",
    "                             'mail_id', 'bin', 'card_id','transaction_id_month_y','transaction_id_date_y','transaction_id_merchant_y','transaction_id_currency_y']\n",
    "\n"
   ]
  },
  {
   "cell_type": "code",
   "execution_count": null,
   "metadata": {},
   "outputs": [],
   "source": [
    "all_features = dataset[selected_features]\n",
    "all_features = all_features.dropna(axis=0, how='any')\n",
    "\n",
    "all_features['label'] = np.where(all_features['simple_journal']=='Chargeback', 1, 0)\n",
    "label = all_features['label']\n",
    "enc_label = all_features['label']\n",
    "\n",
    "all_features = all_features.drop(['txvariantcode','amount','creation_hour', 'creation_month', 'creation_year','simple_journal', 'label', 'mail_id', 'ip_id'],axis=1)\n"
   ]
  },
  {
   "cell_type": "code",
   "execution_count": null,
   "metadata": {},
   "outputs": [],
   "source": [
    "def personal_data_encoding(column, threshold):\n",
    "    count = dict(all_features[column].value_counts())\n",
    "    mapping = {}\n",
    "    for id in count.keys():\n",
    "        if count[id]>threshold:\n",
    "            mapping[id] = id\n",
    "        else:\n",
    "        \t#we don't care for the appearances of \n",
    "            mapping[id] = 'dc'\n",
    "    all_features[column] = all_features[column].map(mapping)\n",
    "\n",
    "\n",
    "\n",
    "personal_data_encoding('bin',3)\n",
    "personal_data_encoding('card_id',10)\n",
    "encoded_feat = pd.get_dummies(all_features)"
   ]
  },
  {
   "cell_type": "code",
   "execution_count": null,
   "metadata": {},
   "outputs": [],
   "source": [
    "def pca(feature_vector, labels, comp=500):\n",
    "    pca = decomposition.PCA(n_components=comp)\n",
    "    coeff = pca.fit_transform(feature_vector)\n",
    "    return coeff"
   ]
  },
  {
   "cell_type": "code",
   "execution_count": null,
   "metadata": {},
   "outputs": [
    {
     "name": "stdout",
     "output_type": "stream",
     "text": [
      "(223172, 100)\n"
     ]
    }
   ],
   "source": [
    "comp = 100\n",
    "test_feature = pca(encoded_feat, enc_label, comp)\n",
    "test_ff = pd.DataFrame(test_feature)\n",
    "print(test_ff.shape)"
   ]
  },
  {
   "cell_type": "code",
   "execution_count": null,
   "metadata": {},
   "outputs": [],
   "source": [
    "TP, FP, FN, TN = 0, 0, 0, 0\n",
    "x_array = np.array(test_ff)\n",
    "y_array = np.array(enc_label)\n",
    "usx = x_array\n",
    "usy = y_array\n",
    "usx = usx.astype(np.float64)\n",
    "usy = usy.astype(np.float64)"
   ]
  },
  {
   "cell_type": "code",
   "execution_count": null,
   "metadata": {},
   "outputs": [],
   "source": [
    "def classification(data_manipulation, classifier):\n",
    "    \n",
    "    warnings.filterwarnings(\"ignore\")\n",
    "    kf = StratifiedKFold(n_splits=10, shuffle=True, random_state=42)\n",
    "    \n",
    "    if classifier == 'knn':\n",
    "        print(\"KNN Classifier\")\n",
    "        clf = neighbors.KNeighborsClassifier(n_jobs=-1)\n",
    "    elif classifier == 'random forest':\n",
    "        print(\"Random Forest Classifier\")\n",
    "        clf = RandomForestClassifier(n_jobs=-1)\n",
    "    elif classifier == 'adaboost':\n",
    "        print(\"AdaBoost Classifier\")\n",
    "        clf = AdaBoostClassifier(base_estimator=None, n_estimators=50, learning_rate=1.0, algorithm='SAMME.R', random_state=42)\n",
    "    elif classifier == 'decision_tree':\n",
    "        print(\"Decision Tree Classifier\")\n",
    "        clf = tree.DecisionTreeClassifier()\n",
    "\n",
    "    total_TP = 0\n",
    "    total_FP = 0\n",
    "    total_FN = 0\n",
    "    total_TN = 0\n",
    "    total_prob = []\n",
    "\n",
    "    tprs_set = []\n",
    "    fprs_set = []\n",
    "    fns_set = []\n",
    "    tns_set = []\n",
    "    y_set = []\n",
    "    probs_set = []\n",
    "    aucs = []\n",
    "    mean_fpr = np.linspace(0, 1, 100)\n",
    "    i = 0\n",
    "\n",
    "    if data_manipulation == 'SMOTE':\n",
    "        print(\"SMOTE\")\n",
    "    elif data_manipulation == 'SMOTE + Tomek':\n",
    "        print(\"SMOTE + Tomek\")\n",
    "    elif data_manipulation == 'UnderSampling':\n",
    "        print(\"UnderSampling\")\n",
    "    elif data_manipulation == 'pure':\n",
    "        print(\"Wihtout data augmentation\")\n",
    "\n",
    "    for train_index, test_index in kf.split(usx, usy):\n",
    "        TP = 0\n",
    "        FP = 0\n",
    "        FN = 0\n",
    "        TN = 0\n",
    "        [x_train, x_test] = usx[train_index], usx[test_index]\n",
    "        [y_train, y_test] = usy[train_index], usy[test_index]\n",
    "    \n",
    "        ## Data Augmentation\n",
    "        if data_manipulation == 'SMOTE':\n",
    "            sm = SMOTE(random_state=42, ratio = 0.5)\n",
    "            x_res, y_res = sm.fit_sample(x_train, y_train)\n",
    "        elif data_manipulation == 'SMOTE + Tomek':\n",
    "            smt = SMOTETomek(random_state=42, ratio = 0.5)\n",
    "            x_res, y_res = smt.fit_sample(x_train, y_train)\n",
    "        elif data_manipulation == 'UnderSampling':\n",
    "            enn = EditedNearestNeighbours()\n",
    "            x_res, y_res = enn.fit_sample(x_train, y_train)\n",
    "        elif data_manipulation == 'pure':\n",
    "            x_res = x_train\n",
    "            y_res = y_train\n",
    "        \n",
    "        ## Classification\n",
    "\n",
    "        clf.fit(x_res, y_res)\n",
    "        y_predict = clf.predict(x_test)\n",
    "        probs = clf.predict_proba(x_test)[:,1]\n",
    "        i +=1\n",
    "            \n",
    "        for i in range(len(probs)):\n",
    "            if y_test[i] == 1 and probs[i] >= 0.37:\n",
    "                TP += 1\n",
    "            if y_test[i] == 0 and probs[i] >= 0.37:\n",
    "                FP += 1\n",
    "            if y_test[i] == 1 and probs[i] < 0.37:\n",
    "                FN += 1\n",
    "            if y_test[i] == 0 and probs[i] < 0.37:\n",
    "                TN += 1\n",
    "        total_TP = total_TP + TP\n",
    "        total_FP = total_FP + FP\n",
    "        total_FN = total_FN + FN\n",
    "        total_TN = total_TN + TN\n",
    "        tprs_set.append(TP)\n",
    "        fprs_set.append(FP)\n",
    "        fns_set.append(FN)\n",
    "        tns_set.append(TN)\n",
    "        probs_set.extend(probs)\n",
    "        y_set.extend(y_test)\n",
    "\n",
    "\n",
    "    total_TP = np.array(total_TP)\n",
    "    total_FP = np.array(total_FP)\n",
    "    total_FN = np.array(total_FN)\n",
    "    total_TN = np.array(total_TN)\n",
    "\n",
    "    print('10 fold cross-validations TP:', total_TP)\n",
    "    print('10 fold cross-validations FP:', total_FP)\n",
    "    print('10 fold cross-validations FN:', total_FN)\n",
    "    print('10 fold cross-validations TN:', total_TN)\n",
    "\n",
    "    False_Positive_Rate, True_Positive_Rate, threshold = roc_curve(y_set, probs_set)\n",
    "    aucTree = roc_auc_score(y_set, probs_set)\n",
    "    plt.title(classifier)\n",
    "    plt.plot([0, 1], [0, 1], 'k--', lw=2, color='r', label='Chance', alpha=.8)\n",
    "    label = 'AUC ' + data_manipulation + ' ' + str(round(aucTree, 2))\n",
    "    plt.plot(False_Positive_Rate, True_Positive_Rate, color='blue',label=label)\n",
    "    plt.xlabel('False Positive Rate')\n",
    "    plt.ylabel('True Positive Rate')\n",
    "    plt.legend(loc=\"lower right\")\n",
    "#     plt.savefig(classifier)\n",
    "    plt.show()"
   ]
  },
  {
   "cell_type": "code",
   "execution_count": null,
   "metadata": {},
   "outputs": [
    {
     "name": "stdout",
     "output_type": "stream",
     "text": [
      "Random Forest Classifier\n",
      "Wihtout data augmentation\n",
      "10 fold cross-validations TP: 60\n",
      "10 fold cross-validations FP: 97\n",
      "10 fold cross-validations FN: 285\n",
      "10 fold cross-validations TN: 222730\n"
     ]
    },
    {
     "data": {
      "image/png": "[encoded data removed]",
      "text/plain": [
       "<Figure size 432x288 with 1 Axes>"
      ]
     },
     "metadata": {
      "needs_background": "light"
     },
     "output_type": "display_data"
    },
    {
     "name": "stdout",
     "output_type": "stream",
     "text": [
      "Random Forest Classifier\n",
      "SMOTE\n",
      "10 fold cross-validations TP: 97\n",
      "10 fold cross-validations FP: 726\n",
      "10 fold cross-validations FN: 248\n",
      "10 fold cross-validations TN: 222101\n"
     ]
    },
    {
     "data": {
      "image/png": "[encoded data removed]",
      "text/plain": [
       "<Figure size 432x288 with 1 Axes>"
      ]
     },
     "metadata": {
      "needs_background": "light"
     },
     "output_type": "display_data"
    },
    {
     "name": "stdout",
     "output_type": "stream",
     "text": [
      "Random Forest Classifier\n",
      "SMOTE + Tomek\n"
     ]
    }
   ],
   "source": [
    "classification('pure', 'random forest')\n",
    "classification('SMOTE', 'random forest')\n",
    "classification('SMOTE + Tomek', 'random forest')\n",
    "classification('UnderSampling', 'random forest')"
   ]
  },
  {
   "cell_type": "code",
   "execution_count": null,
   "metadata": {},
   "outputs": [],
   "source": []
  }
 ],
 "metadata": {
  "kernelspec": {
   "display_name": "Python 3",
   "language": "python",
   "name": "python3"
  },
  "language_info": {
   "codemirror_mode": {
    "name": "ipython",
    "version": 3
   },
   "file_extension": ".py",
   "mimetype": "text/x-python",
   "name": "python",
   "nbconvert_exporter": "python",
   "pygments_lexer": "ipython3",
   "version": "3.7.1"
  }
 },
 "nbformat": 4,
 "nbformat_minor": 2
}
